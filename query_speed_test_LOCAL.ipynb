{
 "cells": [
  {
   "cell_type": "code",
   "execution_count": 1,
   "metadata": {
    "ExecuteTime": {
     "end_time": "2020-09-19T21:21:32.629129Z",
     "start_time": "2020-09-19T21:21:31.546501Z"
    }
   },
   "outputs": [],
   "source": [
    "import pandas as pd \n",
    "import numpy as np\n",
    "import h5py\n",
    "import tiledb \n",
    "import random \n",
    "import pyBigWig\n",
    "random.seed(1234)"
   ]
  },
  {
   "cell_type": "code",
   "execution_count": 2,
   "metadata": {
    "ExecuteTime": {
     "end_time": "2020-09-19T21:21:32.640437Z",
     "start_time": "2020-09-19T21:21:32.634057Z"
    }
   },
   "outputs": [],
   "source": [
    "attribute_of_interest='fc_bigwig'\n",
    "batch_size=100000\n",
    "vector_length=1000\n",
    "task=\"ENCSR000EID\"\n",
    "chrom=\"chr1\"\n",
    "chromsize=248956422 #hg38 chrom size of chr1"
   ]
  },
  {
   "cell_type": "code",
   "execution_count": 3,
   "metadata": {
    "ExecuteTime": {
     "end_time": "2020-09-19T21:21:32.859306Z",
     "start_time": "2020-09-19T21:21:32.644965Z"
    }
   },
   "outputs": [
    {
     "name": "stdout",
     "output_type": "stream",
     "text": [
      "[['chr1', 208888285, 208889285], ['chr1', 118309257, 118310257], ['chr1', 31367822, 31368822], ['chr1', 2011977, 2012977], ['chr1', 24332956, 24333956], ['chr1', 244539247, 244540247], ['chr1', 216629059, 216630059], ['chr1', 156291525, 156292525], ['chr1', 9376421, 9377421], ['chr1', 180272449, 180273449]]\n"
     ]
    }
   ],
   "source": [
    "## random batch of data -- \"batch_size\" of genomic regions of \"vector_length\" each \n",
    "regions=[] \n",
    "for batch_entry in range(batch_size): \n",
    "    cur_start=random.randint(vector_length,chromsize-vector_length)\n",
    "    regions.append([chrom,cur_start,cur_start+vector_length])\n",
    "print(regions[0:10])"
   ]
  },
  {
   "cell_type": "code",
   "execution_count": 4,
   "metadata": {
    "ExecuteTime": {
     "end_time": "2020-09-19T21:21:32.919143Z",
     "start_time": "2020-09-19T21:21:32.861119Z"
    },
    "scrolled": true
   },
   "outputs": [],
   "source": [
    "## Tiledb Test 1: open tiledb array \n",
    "tdb_array=tiledb.open('.'.join([task,chrom]),'r',ctx=tiledb.Ctx())"
   ]
  },
  {
   "cell_type": "code",
   "execution_count": 5,
   "metadata": {
    "ExecuteTime": {
     "end_time": "2020-09-19T21:21:40.699483Z",
     "start_time": "2020-09-19T21:21:32.923434Z"
    }
   },
   "outputs": [],
   "source": [
    "##Tiledb Test 2: extract values for a batch of data \n",
    "tdb_indices=[slice(i[1],i[2]-1) for i in regions]\n",
    "batch_tdb=tdb_array.query(attrs=[attribute_of_interest]).multi_index[tdb_indices][attribute_of_interest]\n",
    "batch_tdb=np.reshape(batch_tdb,(batch_size,-1))\n"
   ]
  },
  {
   "cell_type": "code",
   "execution_count": 6,
   "metadata": {
    "ExecuteTime": {
     "end_time": "2020-09-19T21:21:40.708987Z",
     "start_time": "2020-09-19T21:21:40.703205Z"
    }
   },
   "outputs": [],
   "source": [
    "## HDF5 Test 1: # open hdf5 file for reading \n",
    "hdf5_local=h5py.File('.'.join([task,chrom,'hdf5']),mode='r')"
   ]
  },
  {
   "cell_type": "code",
   "execution_count": 7,
   "metadata": {
    "ExecuteTime": {
     "end_time": "2020-09-19T21:22:08.589462Z",
     "start_time": "2020-09-19T21:21:40.713080Z"
    }
   },
   "outputs": [],
   "source": [
    "## HDF5 Test 2: read regions for task ENCSR000EID from a local hdf5 file \n",
    "batch_hdf5=np.full((batch_size,vector_length),np.nan)\n",
    "region_index=0\n",
    "for region in regions:\n",
    "    batch_hdf5[region_index,:]=hdf5_local['data'][region[1]:region[2]]\n",
    "    region_index+=1"
   ]
  },
  {
   "cell_type": "code",
   "execution_count": 8,
   "metadata": {
    "ExecuteTime": {
     "end_time": "2020-09-19T21:22:08.598684Z",
     "start_time": "2020-09-19T21:22:08.593623Z"
    }
   },
   "outputs": [],
   "source": [
    "## pyBigWig  Test 1: open BigWig for reading \n",
    "bigwig_local=pyBigWig.open(\"ENCSR000EID.merged.nodup.fc.signal.bigwig\",'r')"
   ]
  },
  {
   "cell_type": "code",
   "execution_count": 9,
   "metadata": {
    "ExecuteTime": {
     "end_time": "2020-09-19T21:24:18.680962Z",
     "start_time": "2020-09-19T21:22:08.608024Z"
    }
   },
   "outputs": [],
   "source": [
    "## pyBigWig  Test 2: read regions for task ENCSR000EID from a local BigWig\n",
    "batch_bw=np.full((batch_size,vector_length),np.nan)\n",
    "region_index=0\n",
    "for region in regions:\n",
    "    batch_bw[region_index,:]=bigwig_local.values(region[0],region[1],region[2],numpy=True)\n",
    "    region_index+=1\n"
   ]
  },
  {
   "cell_type": "code",
   "execution_count": 10,
   "metadata": {
    "ExecuteTime": {
     "end_time": "2020-09-19T21:24:19.730985Z",
     "start_time": "2020-09-19T21:24:18.683817Z"
    }
   },
   "outputs": [],
   "source": [
    "#pyBigWig treats empty regions as NaN, convert to 0 \n",
    "batch_bw=np.nan_to_num(batch_bw)"
   ]
  },
  {
   "cell_type": "code",
   "execution_count": 11,
   "metadata": {
    "ExecuteTime": {
     "end_time": "2020-09-19T21:24:37.255086Z",
     "start_time": "2020-09-19T21:24:19.734247Z"
    }
   },
   "outputs": [],
   "source": [
    "# numpy Test 1: extract chr1 from a bigwig and save it\n",
    "\n",
    "bigwig_local=pyBigWig.open(\"ENCSR000EID.merged.nodup.fc.signal.bigwig\",'r')\n",
    "signal = np.nan_to_num(bigwig_local.values('chr1', 0, -1, numpy=True))\n",
    "np.save(\"ENCSR000EID.chr1.npy\", signal)"
   ]
  },
  {
   "cell_type": "code",
   "execution_count": 12,
   "metadata": {
    "ExecuteTime": {
     "end_time": "2020-09-19T21:24:38.008873Z",
     "start_time": "2020-09-19T21:24:37.259698Z"
    }
   },
   "outputs": [],
   "source": [
    "# numpy Test 2: read regions for the task from a memory mapped numpy array\n",
    "\n",
    "numpy_local = np.load(\"ENCSR000EID.chr1.npy\", mmap_mode='r')\n",
    "\n",
    "batch_npy=np.full((batch_size,vector_length),np.nan)\n",
    "region_index=0\n",
    "for region in regions:\n",
    "    batch_npy[region_index]=numpy_local[region[1]:region[2]]\n",
    "    region_index+=1"
   ]
  },
  {
   "cell_type": "code",
   "execution_count": 13,
   "metadata": {
    "ExecuteTime": {
     "end_time": "2020-09-19T21:24:38.435395Z",
     "start_time": "2020-09-19T21:24:38.011244Z"
    }
   },
   "outputs": [],
   "source": [
    "# numpy Test 3: read regions \n",
    "\n",
    "batch_npy2=np.full((batch_size,vector_length),np.nan)\n",
    "region_index=0\n",
    "for region in regions:\n",
    "    batch_npy2[region_index]=signal[region[1]:region[2]]\n",
    "    region_index+=1"
   ]
  },
  {
   "cell_type": "code",
   "execution_count": 14,
   "metadata": {
    "ExecuteTime": {
     "end_time": "2020-09-19T21:24:38.819754Z",
     "start_time": "2020-09-19T21:24:38.438306Z"
    }
   },
   "outputs": [
    {
     "data": {
      "text/plain": [
       "(48777940.0,\n",
       " 48778043.74207814,\n",
       " 48778043.74207814,\n",
       " 48778043.74207814,\n",
       " 48778043.74207814)"
      ]
     },
     "execution_count": 14,
     "metadata": {},
     "output_type": "execute_result"
    }
   ],
   "source": [
    "batch_tdb.sum(), batch_hdf5.sum(), batch_bw.sum(), batch_npy.sum(), batch_npy2.sum()"
   ]
  },
  {
   "cell_type": "code",
   "execution_count": 15,
   "metadata": {
    "ExecuteTime": {
     "end_time": "2020-09-19T21:24:40.478255Z",
     "start_time": "2020-09-19T21:24:38.822034Z"
    }
   },
   "outputs": [
    {
     "name": "stdout",
     "output_type": "stream",
     "text": [
      "all assertions met\n"
     ]
    }
   ],
   "source": [
    "#make sure we're getting the same batch each time\n",
    "assert sum(sum(batch_tdb==batch_hdf5))==batch_size*vector_length\n",
    "assert sum(sum(batch_tdb==batch_bw))==batch_size*vector_length\n",
    "assert sum(sum(batch_hdf5==batch_bw))==batch_size*vector_length\n",
    "assert sum(sum(batch_npy==batch_tdb))==batch_size*vector_length\n",
    "assert sum(sum(batch_npy2==batch_tdb))==batch_size*vector_length\n",
    "print(\"all assertions met\")"
   ]
  },
  {
   "cell_type": "code",
   "execution_count": 16,
   "metadata": {
    "ExecuteTime": {
     "end_time": "2020-09-19T21:24:40.489847Z",
     "start_time": "2020-09-19T21:24:40.482360Z"
    }
   },
   "outputs": [
    {
     "data": {
      "text/plain": [
       "numpy.float32"
      ]
     },
     "execution_count": 16,
     "metadata": {},
     "output_type": "execute_result"
    }
   ],
   "source": [
    "type(batch_tdb[0][0])"
   ]
  },
  {
   "cell_type": "code",
   "execution_count": 17,
   "metadata": {
    "ExecuteTime": {
     "end_time": "2020-09-19T21:24:40.500628Z",
     "start_time": "2020-09-19T21:24:40.493170Z"
    }
   },
   "outputs": [
    {
     "data": {
      "text/plain": [
       "numpy.float64"
      ]
     },
     "execution_count": 17,
     "metadata": {},
     "output_type": "execute_result"
    }
   ],
   "source": [
    "type(batch_hdf5[0][0])"
   ]
  },
  {
   "cell_type": "code",
   "execution_count": 18,
   "metadata": {
    "ExecuteTime": {
     "end_time": "2020-09-19T21:24:40.511372Z",
     "start_time": "2020-09-19T21:24:40.503440Z"
    }
   },
   "outputs": [
    {
     "data": {
      "text/plain": [
       "numpy.float64"
      ]
     },
     "execution_count": 18,
     "metadata": {},
     "output_type": "execute_result"
    }
   ],
   "source": [
    "type(batch_bw[0][0])"
   ]
  },
  {
   "cell_type": "code",
   "execution_count": 19,
   "metadata": {
    "ExecuteTime": {
     "end_time": "2020-09-19T21:24:40.521413Z",
     "start_time": "2020-09-19T21:24:40.514425Z"
    }
   },
   "outputs": [
    {
     "data": {
      "text/plain": [
       "numpy.float64"
      ]
     },
     "execution_count": 19,
     "metadata": {},
     "output_type": "execute_result"
    }
   ],
   "source": [
    "type(batch_npy[0][0])"
   ]
  },
  {
   "cell_type": "code",
   "execution_count": 20,
   "metadata": {
    "ExecuteTime": {
     "end_time": "2020-09-19T21:24:40.531655Z",
     "start_time": "2020-09-19T21:24:40.524680Z"
    }
   },
   "outputs": [
    {
     "data": {
      "text/plain": [
       "numpy.float64"
      ]
     },
     "execution_count": 20,
     "metadata": {},
     "output_type": "execute_result"
    }
   ],
   "source": [
    "type(batch_npy2[0][0])"
   ]
  },
  {
   "cell_type": "code",
   "execution_count": null,
   "metadata": {},
   "outputs": [],
   "source": []
  }
 ],
 "metadata": {
  "kernelspec": {
   "display_name": "Python 3",
   "language": "python",
   "name": "python3"
  },
  "language_info": {
   "codemirror_mode": {
    "name": "ipython",
    "version": 3
   },
   "file_extension": ".py",
   "mimetype": "text/x-python",
   "name": "python",
   "nbconvert_exporter": "python",
   "pygments_lexer": "ipython3",
   "version": "3.7.6"
  }
 },
 "nbformat": 4,
 "nbformat_minor": 2
}
