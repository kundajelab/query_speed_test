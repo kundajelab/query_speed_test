{
 "cells": [
  {
   "cell_type": "code",
   "execution_count": 1,
   "metadata": {
    "ExecuteTime": {
     "end_time": "2020-09-19T00:29:14.951949Z",
     "start_time": "2020-09-19T00:29:13.322183Z"
    }
   },
   "outputs": [],
   "source": [
    "import pandas as pd \n",
    "import numpy as np\n",
    "import h5py\n",
    "import tiledb \n",
    "import random \n",
    "import s3fs\n",
    "import pyBigWig\n",
    "random.seed(1234)"
   ]
  },
  {
   "cell_type": "code",
   "execution_count": 27,
   "metadata": {
    "ExecuteTime": {
     "end_time": "2020-09-19T00:30:23.937000Z",
     "start_time": "2020-09-19T00:30:23.930123Z"
    }
   },
   "outputs": [],
   "source": [
    "attribute_of_interest='fc_bigwig'\n",
    "batch_size=100\n",
    "vector_length=1000\n",
    "task=\"ENCSR000EID\"\n",
    "chrom=\"chr1\"\n",
    "chromsize=248956422"
   ]
  },
  {
   "cell_type": "code",
   "execution_count": 28,
   "metadata": {
    "ExecuteTime": {
     "end_time": "2020-09-19T00:30:24.261587Z",
     "start_time": "2020-09-19T00:30:24.250564Z"
    }
   },
   "outputs": [
    {
     "name": "stdout",
     "output_type": "stream",
     "text": [
      "[['chr1', 106928163, 106929163], ['chr1', 14092580, 14093580], ['chr1', 93825126, 93826126], ['chr1', 235533422, 235534422], ['chr1', 224012078, 224013078], ['chr1', 118260606, 118261606], ['chr1', 62410463, 62411463], ['chr1', 208544026, 208545026], ['chr1', 131667959, 131668959], ['chr1', 44377938, 44378938]]\n"
     ]
    }
   ],
   "source": [
    "## random batch of data -- 100 genomic regions of 1kb each \n",
    "regions=[] \n",
    "for batch_entry in range(batch_size): \n",
    "    cur_start=random.randint(0,chromsize-vector_length)\n",
    "    regions.append([chrom,cur_start,cur_start+vector_length])\n",
    "print(regions[0:10])"
   ]
  },
  {
   "cell_type": "code",
   "execution_count": 29,
   "metadata": {
    "ExecuteTime": {
     "end_time": "2020-09-19T00:30:24.591230Z",
     "start_time": "2020-09-19T00:30:24.571198Z"
    }
   },
   "outputs": [],
   "source": [
    "## Tiledb Test 1: open tiledb array \n",
    "tdb_array=tiledb.open('.'.join([task,chrom]),'r',ctx=tiledb.Ctx())"
   ]
  },
  {
   "cell_type": "code",
   "execution_count": 30,
   "metadata": {
    "ExecuteTime": {
     "end_time": "2020-09-19T00:30:25.035170Z",
     "start_time": "2020-09-19T00:30:24.930912Z"
    }
   },
   "outputs": [],
   "source": [
    "##Tiledb Test 2: extract values for a batch of data \n",
    "tdb_indices=[slice(i[1],i[2]-1) for i in regions]\n",
    "batch_tdb=tdb_array.query(attrs=[attribute_of_interest]).multi_index[tdb_indices][attribute_of_interest]\n",
    "batch_tdb=np.reshape(batch_tdb,(batch_size,-1))\n"
   ]
  },
  {
   "cell_type": "code",
   "execution_count": 31,
   "metadata": {
    "ExecuteTime": {
     "end_time": "2020-09-19T00:30:25.240620Z",
     "start_time": "2020-09-19T00:30:25.233968Z"
    }
   },
   "outputs": [],
   "source": [
    "## HDF5 Test 1: # open hdf5 file for reading \n",
    "hdf5_local=h5py.File(task+\".\"+chrom+\".hdf5\",mode='r')"
   ]
  },
  {
   "cell_type": "code",
   "execution_count": 32,
   "metadata": {
    "ExecuteTime": {
     "end_time": "2020-09-19T00:30:26.492683Z",
     "start_time": "2020-09-19T00:30:25.602521Z"
    }
   },
   "outputs": [],
   "source": [
    "## HDF5 Test 2: read regions for task ENCSR000EID from a local hdf5 file \n",
    "batch_hdf5=np.full((batch_size,vector_length),np.nan)\n",
    "region_index=0\n",
    "for region in regions:\n",
    "    batch_hdf5[region_index,:]=hdf5_local['data'][region[1]:region[2]]\n",
    "    region_index+=1"
   ]
  },
  {
   "cell_type": "code",
   "execution_count": 33,
   "metadata": {
    "ExecuteTime": {
     "end_time": "2020-09-19T00:30:26.502708Z",
     "start_time": "2020-09-19T00:30:26.497195Z"
    }
   },
   "outputs": [],
   "source": [
    "## pyBigWig  Test 1: open BigWig for reading \n",
    "bigwig_local=pyBigWig.open(\"ENCSR000EID.merged.nodup.fc.signal.bigwig\",'r')"
   ]
  },
  {
   "cell_type": "code",
   "execution_count": 34,
   "metadata": {
    "ExecuteTime": {
     "end_time": "2020-09-19T00:30:26.918180Z",
     "start_time": "2020-09-19T00:30:26.507199Z"
    }
   },
   "outputs": [],
   "source": [
    "## pyBigWig  Test 2: read regions for task ENCSR000EID from a local BigWig\n",
    "batch_bw=np.full((batch_size,vector_length),np.nan)\n",
    "region_index=0\n",
    "for region in regions:\n",
    "    batch_bw[region_index,:]=bigwig_local.values(region[0],region[1],region[2],numpy=True)\n",
    "    region_index+=1"
   ]
  },
  {
   "cell_type": "code",
   "execution_count": 35,
   "metadata": {
    "ExecuteTime": {
     "end_time": "2020-09-19T00:30:27.130870Z",
     "start_time": "2020-09-19T00:30:27.107665Z"
    }
   },
   "outputs": [],
   "source": [
    "#make sure we're getting the same batch each time\n",
    "assert sum(sum(batch_tdb==batch_hdf5))==100000\n",
    "assert sum(sum(batch_tdb==batch_bw))==100000\n",
    "assert sum(sum(batch_hdf5==batch_bw))==100000\n",
    "           "
   ]
  },
  {
   "cell_type": "code",
   "execution_count": null,
   "metadata": {},
   "outputs": [],
   "source": []
  }
 ],
 "metadata": {
  "kernelspec": {
   "display_name": "Python 3",
   "language": "python",
   "name": "python3"
  },
  "language_info": {
   "codemirror_mode": {
    "name": "ipython",
    "version": 3
   },
   "file_extension": ".py",
   "mimetype": "text/x-python",
   "name": "python",
   "nbconvert_exporter": "python",
   "pygments_lexer": "ipython3",
   "version": "3.7.6"
  }
 },
 "nbformat": 4,
 "nbformat_minor": 2
}
