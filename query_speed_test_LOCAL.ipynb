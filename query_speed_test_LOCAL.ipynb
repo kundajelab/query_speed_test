{
 "cells": [
  {
   "cell_type": "code",
   "execution_count": 1,
   "metadata": {
    "ExecuteTime": {
     "end_time": "2020-09-19T20:37:12.818000Z",
     "start_time": "2020-09-19T20:37:10.780828Z"
    }
   },
   "outputs": [],
   "source": [
    "import pandas as pd \n",
    "import numpy as np\n",
    "import h5py\n",
    "import tiledb \n",
    "import random \n",
    "import s3fs\n",
    "import pyBigWig\n",
    "random.seed(1234)"
   ]
  },
  {
   "cell_type": "code",
   "execution_count": 2,
   "metadata": {
    "ExecuteTime": {
     "end_time": "2020-09-19T20:37:12.825799Z",
     "start_time": "2020-09-19T20:37:12.821129Z"
    }
   },
   "outputs": [],
   "source": [
    "attribute_of_interest='fc_bigwig'\n",
    "batch_size=100000\n",
    "vector_length=1000\n",
    "task=\"ENCSR000EID\"\n",
    "chrom=\"chr1\"\n",
    "chromsize=248956422 - 50000000"
   ]
  },
  {
   "cell_type": "code",
   "execution_count": 3,
   "metadata": {
    "ExecuteTime": {
     "end_time": "2020-09-19T20:37:13.055629Z",
     "start_time": "2020-09-19T20:37:12.827725Z"
    }
   },
   "outputs": [
    {
     "name": "stdout",
     "output_type": "stream",
     "text": [
      "[['chr1', 118309257, 118310257], ['chr1', 31367822, 31368822], ['chr1', 2011977, 2012977], ['chr1', 24332956, 24333956], ['chr1', 156291525, 156292525], ['chr1', 9376421, 9377421], ['chr1', 180272449, 180273449], ['chr1', 186050237, 186051237], ['chr1', 22532996, 22533996], ['chr1', 26420966, 26421966]]\n"
     ]
    }
   ],
   "source": [
    "## random batch of data -- 100 genomic regions of 1kb each \n",
    "regions=[] \n",
    "for batch_entry in range(batch_size): \n",
    "    cur_start=random.randint(vector_length,chromsize-vector_length)\n",
    "    regions.append([chrom,cur_start,cur_start+vector_length])\n",
    "print(regions[0:10])"
   ]
  },
  {
   "cell_type": "code",
   "execution_count": 4,
   "metadata": {
    "ExecuteTime": {
     "end_time": "2020-09-19T20:37:13.119211Z",
     "start_time": "2020-09-19T20:37:13.057809Z"
    },
    "scrolled": true
   },
   "outputs": [],
   "source": [
    "## Tiledb Test 1: open tiledb array \n",
    "tdb_array=tiledb.open('.'.join([task,chrom]),'r',ctx=tiledb.Ctx())"
   ]
  },
  {
   "cell_type": "code",
   "execution_count": 5,
   "metadata": {
    "ExecuteTime": {
     "end_time": "2020-09-19T20:37:18.265255Z",
     "start_time": "2020-09-19T20:37:13.121124Z"
    }
   },
   "outputs": [],
   "source": [
    "##Tiledb Test 2: extract values for a batch of data \n",
    "tdb_indices=[slice(i[1],i[2]-1) for i in regions]\n",
    "batch_tdb=tdb_array.query(attrs=[attribute_of_interest]).multi_index[tdb_indices][attribute_of_interest]\n",
    "batch_tdb=np.reshape(batch_tdb,(batch_size,-1))\n"
   ]
  },
  {
   "cell_type": "code",
   "execution_count": 6,
   "metadata": {
    "ExecuteTime": {
     "end_time": "2020-09-19T20:37:18.271091Z",
     "start_time": "2020-09-19T20:37:18.267168Z"
    }
   },
   "outputs": [],
   "source": [
    "## HDF5 Test 1: # open hdf5 file for reading \n",
    "hdf5_local=h5py.File(task+\".\"+chrom+\".hdf5\",mode='r')"
   ]
  },
  {
   "cell_type": "code",
   "execution_count": 7,
   "metadata": {
    "ExecuteTime": {
     "end_time": "2020-09-19T20:37:47.995314Z",
     "start_time": "2020-09-19T20:37:18.273171Z"
    }
   },
   "outputs": [],
   "source": [
    "## HDF5 Test 2: read regions for task ENCSR000EID from a local hdf5 file \n",
    "batch_hdf5=np.full((batch_size,vector_length),np.nan)\n",
    "region_index=0\n",
    "for region in regions:\n",
    "    batch_hdf5[region_index,:]=hdf5_local['data'][region[1]:region[2]]\n",
    "    region_index+=1"
   ]
  },
  {
   "cell_type": "code",
   "execution_count": 8,
   "metadata": {
    "ExecuteTime": {
     "end_time": "2020-09-19T20:37:48.001466Z",
     "start_time": "2020-09-19T20:37:47.997432Z"
    }
   },
   "outputs": [],
   "source": [
    "## pyBigWig  Test 1: open BigWig for reading \n",
    "bigwig_local=pyBigWig.open(\"ENCSR000EID.merged.nodup.fc.signal.bigwig\",'r')"
   ]
  },
  {
   "cell_type": "code",
   "execution_count": 9,
   "metadata": {
    "ExecuteTime": {
     "end_time": "2020-09-19T20:39:34.903795Z",
     "start_time": "2020-09-19T20:37:48.004159Z"
    }
   },
   "outputs": [],
   "source": [
    "## pyBigWig  Test 2: read regions for task ENCSR000EID from a local BigWig\n",
    "batch_bw=np.full((batch_size,vector_length),np.nan)\n",
    "region_index=0\n",
    "for region in regions:\n",
    "    batch_bw[region_index,:]=bigwig_local.values(region[0],region[1],region[2],numpy=True)\n",
    "    region_index+=1"
   ]
  },
  {
   "cell_type": "code",
   "execution_count": 10,
   "metadata": {
    "ExecuteTime": {
     "end_time": "2020-09-19T20:39:49.059409Z",
     "start_time": "2020-09-19T20:39:34.906382Z"
    }
   },
   "outputs": [],
   "source": [
    "# numpy Test 1: extract chr1 from a bigwig and save it\n",
    "\n",
    "bigwig_local=pyBigWig.open(\"ENCSR000EID.merged.nodup.fc.signal.bigwig\",'r')\n",
    "signal = bigwig_local.values('chr1', 0, -1, numpy=True)\n",
    "np.save(\"ENCSR000EID.chr1.npy\", signal)"
   ]
  },
  {
   "cell_type": "code",
   "execution_count": 11,
   "metadata": {
    "ExecuteTime": {
     "end_time": "2020-09-19T20:39:49.764178Z",
     "start_time": "2020-09-19T20:39:49.062170Z"
    }
   },
   "outputs": [],
   "source": [
    "# numpy Test 2: read regions for the task from a memory mapped numpy array\n",
    "\n",
    "numpy_local = np.load(\"ENCSR000EID.chr1.npy\", mmap_mode='r')\n",
    "\n",
    "batch_npy=np.full((batch_size,vector_length),np.nan)\n",
    "region_index=0\n",
    "for region in regions:\n",
    "    batch_npy[region_index]=numpy_local[region[1]:region[2]]\n",
    "    region_index+=1"
   ]
  },
  {
   "cell_type": "code",
   "execution_count": 12,
   "metadata": {
    "ExecuteTime": {
     "end_time": "2020-09-19T20:39:50.286821Z",
     "start_time": "2020-09-19T20:39:49.765907Z"
    }
   },
   "outputs": [],
   "source": [
    "# numpy Test 3: read regions \n",
    "\n",
    "batch_npy2=np.full((batch_size,vector_length),np.nan)\n",
    "region_index=0\n",
    "for region in regions:\n",
    "    batch_npy2[region_index]=signal[region[1]:region[2]]\n",
    "    region_index+=1"
   ]
  },
  {
   "cell_type": "code",
   "execution_count": 13,
   "metadata": {
    "ExecuteTime": {
     "end_time": "2020-09-19T20:39:50.653938Z",
     "start_time": "2020-09-19T20:39:50.288684Z"
    }
   },
   "outputs": [
    {
     "data": {
      "text/plain": [
       "(45326624.0,\n",
       " 45326639.46270242,\n",
       " 45326639.46270242,\n",
       " 45326639.46270242,\n",
       " 45326639.46270242)"
      ]
     },
     "execution_count": 13,
     "metadata": {},
     "output_type": "execute_result"
    }
   ],
   "source": [
    "batch_tdb.sum(), batch_hdf5.sum(), batch_bw.sum(), batch_npy.sum(), batch_npy2.sum()"
   ]
  },
  {
   "cell_type": "code",
   "execution_count": 14,
   "metadata": {
    "ExecuteTime": {
     "end_time": "2020-09-19T20:39:51.923622Z",
     "start_time": "2020-09-19T20:39:50.655330Z"
    }
   },
   "outputs": [
    {
     "ename": "AssertionError",
     "evalue": "",
     "output_type": "error",
     "traceback": [
      "\u001b[0;31m---------------------------------------------------------------------------\u001b[0m",
      "\u001b[0;31mAssertionError\u001b[0m                            Traceback (most recent call last)",
      "\u001b[0;32m<ipython-input-14-980ce137ed4f>\u001b[0m in \u001b[0;36m<module>\u001b[0;34m\u001b[0m\n\u001b[1;32m      1\u001b[0m \u001b[0;31m#make sure we're getting the same batch each time\u001b[0m\u001b[0;34m\u001b[0m\u001b[0;34m\u001b[0m\u001b[0;34m\u001b[0m\u001b[0m\n\u001b[0;32m----> 2\u001b[0;31m \u001b[0;32massert\u001b[0m \u001b[0msum\u001b[0m\u001b[0;34m(\u001b[0m\u001b[0msum\u001b[0m\u001b[0;34m(\u001b[0m\u001b[0mbatch_tdb\u001b[0m\u001b[0;34m==\u001b[0m\u001b[0mbatch_hdf5\u001b[0m\u001b[0;34m)\u001b[0m\u001b[0;34m)\u001b[0m\u001b[0;34m==\u001b[0m\u001b[0;36m100000\u001b[0m\u001b[0;34m\u001b[0m\u001b[0;34m\u001b[0m\u001b[0m\n\u001b[0m\u001b[1;32m      3\u001b[0m \u001b[0;32massert\u001b[0m \u001b[0msum\u001b[0m\u001b[0;34m(\u001b[0m\u001b[0msum\u001b[0m\u001b[0;34m(\u001b[0m\u001b[0mbatch_tdb\u001b[0m\u001b[0;34m==\u001b[0m\u001b[0mbatch_bw\u001b[0m\u001b[0;34m)\u001b[0m\u001b[0;34m)\u001b[0m\u001b[0;34m==\u001b[0m\u001b[0;36m100000\u001b[0m\u001b[0;34m\u001b[0m\u001b[0;34m\u001b[0m\u001b[0m\n\u001b[1;32m      4\u001b[0m \u001b[0;32massert\u001b[0m \u001b[0msum\u001b[0m\u001b[0;34m(\u001b[0m\u001b[0msum\u001b[0m\u001b[0;34m(\u001b[0m\u001b[0mbatch_hdf5\u001b[0m\u001b[0;34m==\u001b[0m\u001b[0mbatch_bw\u001b[0m\u001b[0;34m)\u001b[0m\u001b[0;34m)\u001b[0m\u001b[0;34m==\u001b[0m\u001b[0;36m100000\u001b[0m\u001b[0;34m\u001b[0m\u001b[0;34m\u001b[0m\u001b[0m\n\u001b[1;32m      5\u001b[0m \u001b[0;34m\u001b[0m\u001b[0m\n",
      "\u001b[0;31mAssertionError\u001b[0m: "
     ]
    }
   ],
   "source": [
    "#make sure we're getting the same batch each time\n",
    "assert sum(sum(batch_tdb==batch_hdf5))==100000\n",
    "assert sum(sum(batch_tdb==batch_bw))==100000\n",
    "assert sum(sum(batch_hdf5==batch_bw))==100000\n",
    "           "
   ]
  }
 ],
 "metadata": {
  "kernelspec": {
   "display_name": "Python 3",
   "language": "python",
   "name": "python3"
  },
  "language_info": {
   "codemirror_mode": {
    "name": "ipython",
    "version": 3
   },
   "file_extension": ".py",
   "mimetype": "text/x-python",
   "name": "python",
   "nbconvert_exporter": "python",
   "pygments_lexer": "ipython3",
   "version": "3.8.3"
  }
 },
 "nbformat": 4,
 "nbformat_minor": 2
}
