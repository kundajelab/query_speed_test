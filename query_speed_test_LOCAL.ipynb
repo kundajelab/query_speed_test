{
 "cells": [
  {
   "cell_type": "code",
   "execution_count": 1,
   "metadata": {
    "ExecuteTime": {
     "end_time": "2020-09-19T23:51:57.010041Z",
     "start_time": "2020-09-19T23:51:55.918941Z"
    }
   },
   "outputs": [],
   "source": [
    "import pandas as pd \n",
    "import numpy as np\n",
    "import h5py\n",
    "import tiledb \n",
    "import random \n",
    "import pyBigWig\n",
    "random.seed(1234)"
   ]
  },
  {
   "cell_type": "code",
   "execution_count": 2,
   "metadata": {
    "ExecuteTime": {
     "end_time": "2020-09-19T23:51:57.021095Z",
     "start_time": "2020-09-19T23:51:57.015090Z"
    }
   },
   "outputs": [],
   "source": [
    "attribute_of_interest='fc_bigwig'\n",
    "batch_size=100000\n",
    "vector_length=1000\n",
    "task=\"ENCSR000EID\"\n",
    "chromsizes_file=\"hg38.chrom.sizes\""
   ]
  },
  {
   "cell_type": "code",
   "execution_count": 3,
   "metadata": {
    "ExecuteTime": {
     "end_time": "2020-09-19T23:51:57.040878Z",
     "start_time": "2020-09-19T23:51:57.025529Z"
    }
   },
   "outputs": [
    {
     "name": "stdout",
     "output_type": "stream",
     "text": [
      "['chr1', 'chr2', 'chr3', 'chr4', 'chr5', 'chr6', 'chr7', 'chr8', 'chr9', 'chr10', 'chr11', 'chr12', 'chr13', 'chr14', 'chr15', 'chr16', 'chr17', 'chr18', 'chr19', 'chr20', 'chr21', 'chr22', 'chrX', 'chrY']\n"
     ]
    }
   ],
   "source": [
    "#get chromsizes dictionary \n",
    "chromsizes=pd.read_csv(chromsizes_file,sep='\\t',header=None,index_col=0)[1].to_dict()\n",
    "chromsizes\n",
    "chroms=list(chromsizes.keys())\n",
    "print(chroms)"
   ]
  },
  {
   "cell_type": "code",
   "execution_count": 4,
   "metadata": {
    "ExecuteTime": {
     "end_time": "2020-09-19T23:51:57.340608Z",
     "start_time": "2020-09-19T23:51:57.043594Z"
    }
   },
   "outputs": [
    {
     "name": "stdout",
     "output_type": "stream",
     "text": [
      "[['chr15', 15684411, 15685411], ['chr1', 24332956, 24333956], ['chr19', 2344855, 2345855], ['chr22', 46513309, 46514309], ['chr3', 26420966, 26421966], ['chr12', 31785070, 31786070], ['chr1', 8272574, 8273574], ['chr1', 92903549, 92904549], ['chr21', 41828711, 41829711], ['chr16', 82654383, 82655383]]\n"
     ]
    }
   ],
   "source": [
    "## random batch of data -- \"batch_size\" of genomic regions of \"vector_length\" each \n",
    "regions=[] \n",
    "for batch_entry in range(batch_size): \n",
    "    cur_chrom=random.choice(chroms)\n",
    "    cur_start=random.randint(vector_length,chromsizes[cur_chrom]-vector_length)\n",
    "    regions.append([cur_chrom,cur_start,cur_start+vector_length])\n",
    "print(regions[0:10])"
   ]
  },
  {
   "cell_type": "code",
   "execution_count": 5,
   "metadata": {
    "ExecuteTime": {
     "end_time": "2020-09-19T23:51:57.377958Z",
     "start_time": "2020-09-19T23:51:57.342701Z"
    }
   },
   "outputs": [
    {
     "name": "stdout",
     "output_type": "stream",
     "text": [
      "{'chr1': 0, 'chr2': 248956422, 'chr3': 491149951, 'chr4': 689445510, 'chr5': 879660065, 'chr6': 1061198324, 'chr7': 1232004303, 'chr8': 1391350276, 'chr9': 1536488912, 'chr10': 1674883629, 'chr11': 1808681051, 'chr12': 1943767673, 'chr13': 2077042982, 'chr14': 2191407310, 'chr15': 2298451028, 'chr16': 2400442217, 'chr17': 2490780562, 'chr18': 2574038003, 'chr19': 2654411288, 'chr20': 2713028904, 'chr21': 2777473071, 'chr22': 2824183054, 'chrX': 2875001522, 'chrY': 3031042417}\n"
     ]
    }
   ],
   "source": [
    "## convert from \"bed file\" coordinates to tiledb indices (tiledb stores bases 0 - 3 billion in one vector)\n",
    "\n",
    "#get starting genomewide position for each chrom \n",
    "chrom_to_start={} \n",
    "cur_start=0 \n",
    "for chrom in chroms: \n",
    "    chrom_to_start[chrom]=cur_start \n",
    "    cur_start+=chromsizes[chrom]\n",
    "print(chrom_to_start)\n",
    "\n",
    "#convert region \"bed\" coordinates to tdb indices\n",
    "regions_tdb=[] \n",
    "for region in regions: \n",
    "    tdb_index=chrom_to_start[region[0]]+region[1]\n",
    "    regions_tdb.append(tdb_index)\n"
   ]
  },
  {
   "cell_type": "code",
   "execution_count": 6,
   "metadata": {
    "ExecuteTime": {
     "end_time": "2020-09-19T23:51:58.295927Z",
     "start_time": "2020-09-19T23:51:58.187191Z"
    }
   },
   "outputs": [],
   "source": [
    "tdb_indices=[slice(i,i+vector_length-1) for i in regions_tdb]\n"
   ]
  },
  {
   "cell_type": "code",
   "execution_count": 7,
   "metadata": {
    "ExecuteTime": {
     "end_time": "2020-09-19T23:51:59.068885Z",
     "start_time": "2020-09-19T23:51:58.813193Z"
    },
    "scrolled": true
   },
   "outputs": [],
   "source": [
    "## Tiledb Test 1: open tiledb array \n",
    "tdb_array=tiledb.open('.'.join([task,'tdb']),'r',ctx=tiledb.Ctx())"
   ]
  },
  {
   "cell_type": "code",
   "execution_count": 8,
   "metadata": {
    "ExecuteTime": {
     "end_time": "2020-09-19T23:55:02.741435Z",
     "start_time": "2020-09-19T23:52:00.708425Z"
    }
   },
   "outputs": [],
   "source": [
    "##Tiledb Test 2: extract values for a batch of data \n",
    "batch_tdb=tdb_array.query(attrs=[attribute_of_interest]).multi_index[tdb_indices][attribute_of_interest]\n"
   ]
  },
  {
   "cell_type": "code",
   "execution_count": 9,
   "metadata": {
    "ExecuteTime": {
     "end_time": "2020-09-19T23:55:02.756933Z",
     "start_time": "2020-09-19T23:55:02.751007Z"
    }
   },
   "outputs": [],
   "source": [
    "batch_tdb=np.reshape(batch_tdb,(batch_size,-1))\n"
   ]
  },
  {
   "cell_type": "code",
   "execution_count": 10,
   "metadata": {
    "ExecuteTime": {
     "end_time": "2020-09-19T23:55:02.843483Z",
     "start_time": "2020-09-19T23:55:02.760413Z"
    }
   },
   "outputs": [],
   "source": [
    "##Tiled Test 3: 10 threads\n",
    "tdb_config_params={\"sm.check_coord_dups\":False,\n",
    "                   \"sm.check_coord_oob\":False,\n",
    "                   \"sm.check_global_order\":False,\n",
    "                   \"sm.num_writer_threads\":10,\n",
    "                   \"sm.num_reader_threads\":10,\n",
    "                   \"sm.num_async_threads\":10,\n",
    "                   \"vfs.num_threads\":10}\n",
    "tdb_Config=tiledb.Config(tdb_config_params)\n",
    "tdb_array=tiledb.open('.'.join([task,'tdb']),'r',ctx=tiledb.Ctx(config=tdb_Config))\n",
    "\n"
   ]
  },
  {
   "cell_type": "code",
   "execution_count": 11,
   "metadata": {
    "ExecuteTime": {
     "end_time": "2020-09-19T23:58:11.357180Z",
     "start_time": "2020-09-19T23:55:02.848358Z"
    }
   },
   "outputs": [],
   "source": [
    "##Tiled Test 4: extract values for batch of data with 10 threads\n",
    "batch_tdb=tdb_array.query(attrs=[attribute_of_interest]).multi_index[tdb_indices][attribute_of_interest]\n"
   ]
  },
  {
   "cell_type": "code",
   "execution_count": 12,
   "metadata": {
    "ExecuteTime": {
     "end_time": "2020-09-19T23:58:11.373246Z",
     "start_time": "2020-09-19T23:58:11.366828Z"
    }
   },
   "outputs": [],
   "source": [
    "batch_tdb=np.reshape(batch_tdb,(batch_size,-1))\n"
   ]
  },
  {
   "cell_type": "code",
   "execution_count": 13,
   "metadata": {
    "ExecuteTime": {
     "end_time": "2020-09-19T23:58:11.385429Z",
     "start_time": "2020-09-19T23:58:11.375738Z"
    }
   },
   "outputs": [],
   "source": [
    "## HDF5 Test 1: # open hdf5 file for reading \n",
    "hdf5_local=h5py.File('.'.join([task,'hdf5']),mode='r')"
   ]
  },
  {
   "cell_type": "code",
   "execution_count": 14,
   "metadata": {
    "ExecuteTime": {
     "end_time": "2020-09-19T23:58:42.013108Z",
     "start_time": "2020-09-19T23:58:11.389381Z"
    }
   },
   "outputs": [],
   "source": [
    "## HDF5 Test 2: read regions for task ENCSR000EID from a local hdf5 file \n",
    "batch_hdf5=np.full((batch_size,vector_length),np.nan)\n",
    "region_index=0\n",
    "for region in regions:\n",
    "    batch_hdf5[region_index,:]=hdf5_local[region[0]][region[1]:region[2]]\n",
    "    region_index+=1"
   ]
  },
  {
   "cell_type": "code",
   "execution_count": 15,
   "metadata": {
    "ExecuteTime": {
     "end_time": "2020-09-19T23:58:42.024533Z",
     "start_time": "2020-09-19T23:58:42.018899Z"
    }
   },
   "outputs": [],
   "source": [
    "## pyBigWig  Test 1: open BigWig for reading \n",
    "bigwig_local=pyBigWig.open(\"ENCSR000EID.merged.nodup.fc.signal.bigwig\",'r')"
   ]
  },
  {
   "cell_type": "code",
   "execution_count": 16,
   "metadata": {
    "ExecuteTime": {
     "end_time": "2020-09-20T00:00:46.233218Z",
     "start_time": "2020-09-19T23:58:42.029305Z"
    }
   },
   "outputs": [],
   "source": [
    "## pyBigWig  Test 2: read regions for task ENCSR000EID from a local BigWig\n",
    "batch_bw=np.full((batch_size,vector_length),np.nan)\n",
    "region_index=0\n",
    "for region in regions:\n",
    "    batch_bw[region_index,:]=bigwig_local.values(region[0],region[1],region[2],numpy=True)\n",
    "    region_index+=1\n"
   ]
  },
  {
   "cell_type": "code",
   "execution_count": 17,
   "metadata": {
    "ExecuteTime": {
     "end_time": "2020-09-20T00:00:47.541083Z",
     "start_time": "2020-09-20T00:00:46.244225Z"
    }
   },
   "outputs": [],
   "source": [
    "#pyBigWig treats empty regions as NaN, convert to 0 \n",
    "batch_bw=np.nan_to_num(batch_bw)"
   ]
  },
  {
   "cell_type": "code",
   "execution_count": 18,
   "metadata": {
    "ExecuteTime": {
     "end_time": "2020-09-20T00:00:47.547438Z",
     "start_time": "2020-09-20T00:00:47.544482Z"
    }
   },
   "outputs": [],
   "source": [
    "## numpy Test 1: extract chr1 from a bigwig and save it\n",
    "## IF WANT TO LIMIT TO CHROM 1 \n",
    "\n",
    "#bigwig_local=pyBigWig.open(\"ENCSR000EID.merged.nodup.fc.signal.bigwig\",'r')\n",
    "#signal = np.nan_to_num(bigwig_local.values('chr1', 0, -1, numpy=True))\n",
    "#np.save(\"ENCSR000EID.chr1.npy\", signal)\n",
    "\n",
    "##genomewide signal extraction -- this takes 35 minutes, so recommended to use pre-generated file on mitra: \n",
    "## http://mitra.stanford.edu/kundaje/annashch/query_speed_test/ENCSR000EID.npy \n",
    "##genomewide signal from tdb for storing in numpy \n",
    "\n",
    "#signal=tdb_array.query(attrs=[attribute_of_interest]).multi_index[0:3088269832][attribute_of_interest]\n",
    "#np.save(\"ENCSR000EID.npy\", signal)"
   ]
  },
  {
   "cell_type": "code",
   "execution_count": 19,
   "metadata": {
    "ExecuteTime": {
     "end_time": "2020-09-20T00:00:48.708271Z",
     "start_time": "2020-09-20T00:00:47.549387Z"
    }
   },
   "outputs": [],
   "source": [
    "# numpy Test 2: read regions for the task from a memory mapped numpy array\n",
    "\n",
    "numpy_local = np.load(\"ENCSR000EID.npy\", mmap_mode='r')\n",
    "\n",
    "batch_npy=np.full((batch_size,vector_length),np.nan)\n",
    "region_index=0\n",
    "for region in regions_tdb:\n",
    "    batch_npy[region_index]=numpy_local[region:region+vector_length,0]\n",
    "    region_index+=1"
   ]
  },
  {
   "cell_type": "code",
   "execution_count": 20,
   "metadata": {
    "ExecuteTime": {
     "end_time": "2020-09-20T00:01:03.495406Z",
     "start_time": "2020-09-20T00:00:48.712932Z"
    }
   },
   "outputs": [],
   "source": [
    "# numpy Test 3: read regions \n",
    "signal=np.load(\"ENCSR000EID.npy\")\n"
   ]
  },
  {
   "cell_type": "code",
   "execution_count": 21,
   "metadata": {
    "ExecuteTime": {
     "end_time": "2020-09-20T00:01:04.144463Z",
     "start_time": "2020-09-20T00:01:03.500835Z"
    }
   },
   "outputs": [],
   "source": [
    "batch_npy2=np.full((batch_size,vector_length),np.nan)\n",
    "region_index=0\n",
    "for region in regions_tdb:\n",
    "    batch_npy2[region_index]=signal[region:region+vector_length,0]\n",
    "    region_index+=1"
   ]
  },
  {
   "cell_type": "code",
   "execution_count": 22,
   "metadata": {
    "ExecuteTime": {
     "end_time": "2020-09-20T00:01:05.286919Z",
     "start_time": "2020-09-20T00:01:04.148107Z"
    }
   },
   "outputs": [
    {
     "data": {
      "text/plain": [
       "(48407202.920871034,\n",
       " 48407202.920871034,\n",
       " 48407202.920871034,\n",
       " 48407202.920871034,\n",
       " 48407202.920871034)"
      ]
     },
     "execution_count": 22,
     "metadata": {},
     "output_type": "execute_result"
    }
   ],
   "source": [
    "batch_tdb.sum(), batch_hdf5.sum(), batch_bw.sum(), batch_npy.sum(), batch_npy2.sum()"
   ]
  },
  {
   "cell_type": "code",
   "execution_count": 23,
   "metadata": {
    "ExecuteTime": {
     "end_time": "2020-09-20T00:01:06.935154Z",
     "start_time": "2020-09-20T00:01:05.290175Z"
    }
   },
   "outputs": [
    {
     "name": "stdout",
     "output_type": "stream",
     "text": [
      "all assertions met\n"
     ]
    }
   ],
   "source": [
    "#make sure we're getting the same batch each time\n",
    "assert sum(sum(batch_tdb==batch_hdf5))==(batch_size*vector_length)\n",
    "assert sum(sum(batch_tdb==batch_bw))== (batch_size*vector_length)\n",
    "assert sum(sum(batch_hdf5==batch_bw))== (batch_size*vector_length)\n",
    "assert sum(sum(batch_npy==batch_tdb))== (batch_size*vector_length)\n",
    "assert sum(sum(batch_npy2==batch_tdb))== (batch_size*vector_length)\n",
    "print(\"all assertions met\")"
   ]
  },
  {
   "cell_type": "code",
   "execution_count": 24,
   "metadata": {
    "ExecuteTime": {
     "end_time": "2020-09-20T00:01:06.946646Z",
     "start_time": "2020-09-20T00:01:06.937142Z"
    }
   },
   "outputs": [
    {
     "data": {
      "text/plain": [
       "numpy.float64"
      ]
     },
     "execution_count": 24,
     "metadata": {},
     "output_type": "execute_result"
    }
   ],
   "source": [
    "type(batch_tdb[0][0])"
   ]
  },
  {
   "cell_type": "code",
   "execution_count": 25,
   "metadata": {
    "ExecuteTime": {
     "end_time": "2020-09-20T00:01:06.955362Z",
     "start_time": "2020-09-20T00:01:06.949269Z"
    }
   },
   "outputs": [
    {
     "data": {
      "text/plain": [
       "numpy.float64"
      ]
     },
     "execution_count": 25,
     "metadata": {},
     "output_type": "execute_result"
    }
   ],
   "source": [
    "type(batch_hdf5[0][0])"
   ]
  },
  {
   "cell_type": "code",
   "execution_count": 26,
   "metadata": {
    "ExecuteTime": {
     "end_time": "2020-09-20T00:01:06.965114Z",
     "start_time": "2020-09-20T00:01:06.958108Z"
    }
   },
   "outputs": [
    {
     "data": {
      "text/plain": [
       "numpy.float64"
      ]
     },
     "execution_count": 26,
     "metadata": {},
     "output_type": "execute_result"
    }
   ],
   "source": [
    "type(batch_bw[0][0])"
   ]
  },
  {
   "cell_type": "code",
   "execution_count": 27,
   "metadata": {
    "ExecuteTime": {
     "end_time": "2020-09-20T00:01:06.975008Z",
     "start_time": "2020-09-20T00:01:06.968073Z"
    }
   },
   "outputs": [
    {
     "data": {
      "text/plain": [
       "numpy.float64"
      ]
     },
     "execution_count": 27,
     "metadata": {},
     "output_type": "execute_result"
    }
   ],
   "source": [
    "type(batch_npy[0][0])"
   ]
  },
  {
   "cell_type": "code",
   "execution_count": 28,
   "metadata": {
    "ExecuteTime": {
     "end_time": "2020-09-20T00:01:06.986656Z",
     "start_time": "2020-09-20T00:01:06.978677Z"
    }
   },
   "outputs": [
    {
     "data": {
      "text/plain": [
       "numpy.float64"
      ]
     },
     "execution_count": 28,
     "metadata": {},
     "output_type": "execute_result"
    }
   ],
   "source": [
    "type(batch_npy2[0][0])"
   ]
  },
  {
   "cell_type": "code",
   "execution_count": null,
   "metadata": {},
   "outputs": [],
   "source": []
  },
  {
   "cell_type": "code",
   "execution_count": null,
   "metadata": {},
   "outputs": [],
   "source": []
  }
 ],
 "metadata": {
  "kernelspec": {
   "display_name": "Python 3",
   "language": "python",
   "name": "python3"
  },
  "language_info": {
   "codemirror_mode": {
    "name": "ipython",
    "version": 3
   },
   "file_extension": ".py",
   "mimetype": "text/x-python",
   "name": "python",
   "nbconvert_exporter": "python",
   "pygments_lexer": "ipython3",
   "version": "3.7.6"
  }
 },
 "nbformat": 4,
 "nbformat_minor": 2
}
