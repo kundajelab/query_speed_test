{
 "cells": [
  {
   "cell_type": "code",
   "execution_count": 1,
   "metadata": {
    "ExecuteTime": {
     "end_time": "2020-09-19T23:19:59.595427Z",
     "start_time": "2020-09-19T23:19:58.500699Z"
    }
   },
   "outputs": [],
   "source": [
    "import pandas as pd \n",
    "import numpy as np\n",
    "import h5py\n",
    "import tiledb \n",
    "import random \n",
    "import pyBigWig\n",
    "random.seed(1234)"
   ]
  },
  {
   "cell_type": "code",
   "execution_count": 18,
   "metadata": {
    "ExecuteTime": {
     "end_time": "2020-09-19T23:21:16.076449Z",
     "start_time": "2020-09-19T23:21:16.070060Z"
    }
   },
   "outputs": [],
   "source": [
    "attribute_of_interest='fc_bigwig'\n",
    "batch_size=1000\n",
    "vector_length=1000\n",
    "task=\"ENCSR000EID\"\n",
    "chromsizes_file=\"hg38.chrom.sizes\""
   ]
  },
  {
   "cell_type": "code",
   "execution_count": 19,
   "metadata": {
    "ExecuteTime": {
     "end_time": "2020-09-19T23:21:17.043785Z",
     "start_time": "2020-09-19T23:21:17.026854Z"
    }
   },
   "outputs": [
    {
     "name": "stdout",
     "output_type": "stream",
     "text": [
      "['chr1', 'chr2', 'chr3', 'chr4', 'chr5', 'chr6', 'chr7', 'chr8', 'chr9', 'chr10', 'chr11', 'chr12', 'chr13', 'chr14', 'chr15', 'chr16', 'chr17', 'chr18', 'chr19', 'chr20', 'chr21', 'chr22', 'chrX', 'chrY']\n"
     ]
    }
   ],
   "source": [
    "#get chromsizes dictionary \n",
    "chromsizes=pd.read_csv(chromsizes_file,sep='\\t',header=None,index_col=0)[1].to_dict()\n",
    "chromsizes\n",
    "chroms=list(chromsizes.keys())\n",
    "print(chroms)"
   ]
  },
  {
   "cell_type": "code",
   "execution_count": 20,
   "metadata": {
    "ExecuteTime": {
     "end_time": "2020-09-19T23:21:17.976848Z",
     "start_time": "2020-09-19T23:21:17.651953Z"
    }
   },
   "outputs": [
    {
     "name": "stdout",
     "output_type": "stream",
     "text": [
      "[['chr21', 5881111, 5882111], ['chr5', 58260538, 58261538], ['chr2', 116172450, 116173450], ['chr13', 98882536, 98883536], ['chr11', 55599083, 55600083], ['chr22', 25582971, 25583971], ['chr9', 81748786, 81749786], ['chr14', 42810213, 42811213], ['chr22', 38773097, 38774097], ['chr5', 142980389, 142981389]]\n"
     ]
    }
   ],
   "source": [
    "## random batch of data -- \"batch_size\" of genomic regions of \"vector_length\" each \n",
    "regions=[] \n",
    "for batch_entry in range(batch_size): \n",
    "    cur_chrom=random.choice(chroms)\n",
    "    cur_start=random.randint(vector_length,chromsizes[cur_chrom]-vector_length)\n",
    "    regions.append([cur_chrom,cur_start,cur_start+vector_length])\n",
    "print(regions[0:10])"
   ]
  },
  {
   "cell_type": "code",
   "execution_count": 21,
   "metadata": {
    "ExecuteTime": {
     "end_time": "2020-09-19T23:21:19.764375Z",
     "start_time": "2020-09-19T23:21:19.713846Z"
    }
   },
   "outputs": [
    {
     "name": "stdout",
     "output_type": "stream",
     "text": [
      "{'chr1': 0, 'chr2': 248956422, 'chr3': 491149951, 'chr4': 689445510, 'chr5': 879660065, 'chr6': 1061198324, 'chr7': 1232004303, 'chr8': 1391350276, 'chr9': 1536488912, 'chr10': 1674883629, 'chr11': 1808681051, 'chr12': 1943767673, 'chr13': 2077042982, 'chr14': 2191407310, 'chr15': 2298451028, 'chr16': 2400442217, 'chr17': 2490780562, 'chr18': 2574038003, 'chr19': 2654411288, 'chr20': 2713028904, 'chr21': 2777473071, 'chr22': 2824183054, 'chrX': 2875001522, 'chrY': 3031042417}\n"
     ]
    }
   ],
   "source": [
    "## convert from \"bed file\" coordinates to tiledb indices (tiledb stores bases 0 - 3 billion in one vector)\n",
    "\n",
    "#get starting genomewide position for each chrom \n",
    "chrom_to_start={} \n",
    "cur_start=0 \n",
    "for chrom in chroms: \n",
    "    chrom_to_start[chrom]=cur_start \n",
    "    cur_start+=chromsizes[chrom]\n",
    "print(chrom_to_start)\n",
    "\n",
    "#convert region \"bed\" coordinates to tdb indices\n",
    "regions_tdb=[] \n",
    "for region in regions: \n",
    "    tdb_index=chrom_to_start[region[0]]+region[1]\n",
    "    regions_tdb.append(tdb_index)\n"
   ]
  },
  {
   "cell_type": "code",
   "execution_count": 22,
   "metadata": {
    "ExecuteTime": {
     "end_time": "2020-09-19T23:21:21.218103Z",
     "start_time": "2020-09-19T23:21:21.210159Z"
    }
   },
   "outputs": [
    {
     "data": {
      "text/plain": [
       "3088269832"
      ]
     },
     "execution_count": 22,
     "metadata": {},
     "output_type": "execute_result"
    }
   ],
   "source": [
    "tdb_indices=[slice(i,i+vector_length-1) for i in regions_tdb]\n"
   ]
  },
  {
   "cell_type": "code",
   "execution_count": 23,
   "metadata": {
    "ExecuteTime": {
     "end_time": "2020-09-19T23:21:21.826334Z",
     "start_time": "2020-09-19T23:21:21.743163Z"
    },
    "scrolled": true
   },
   "outputs": [],
   "source": [
    "## Tiledb Test 1: open tiledb array \n",
    "tdb_array=tiledb.open('.'.join([task,'tdb']),'r',ctx=tiledb.Ctx())"
   ]
  },
  {
   "cell_type": "code",
   "execution_count": 24,
   "metadata": {
    "ExecuteTime": {
     "end_time": "2020-09-19T23:24:32.851438Z",
     "start_time": "2020-09-19T23:21:22.330194Z"
    }
   },
   "outputs": [
    {
     "ename": "KeyboardInterrupt",
     "evalue": "",
     "output_type": "error",
     "traceback": [
      "\u001b[0;31m---------------------------------------------------------------------------\u001b[0m",
      "\u001b[0;31mKeyboardInterrupt\u001b[0m                         Traceback (most recent call last)",
      "\u001b[0;32m<ipython-input-24-a9f5935704a6>\u001b[0m in \u001b[0;36m<module>\u001b[0;34m\u001b[0m\n\u001b[1;32m      1\u001b[0m \u001b[0;31m##Tiledb Test 2: extract values for a batch of data\u001b[0m\u001b[0;34m\u001b[0m\u001b[0;34m\u001b[0m\u001b[0;34m\u001b[0m\u001b[0m\n\u001b[1;32m      2\u001b[0m \u001b[0mtdb_indices\u001b[0m\u001b[0;34m=\u001b[0m\u001b[0;34m[\u001b[0m\u001b[0mslice\u001b[0m\u001b[0;34m(\u001b[0m\u001b[0mi\u001b[0m\u001b[0;34m,\u001b[0m\u001b[0mi\u001b[0m\u001b[0;34m+\u001b[0m\u001b[0mvector_length\u001b[0m\u001b[0;34m-\u001b[0m\u001b[0;36m1\u001b[0m\u001b[0;34m)\u001b[0m \u001b[0;32mfor\u001b[0m \u001b[0mi\u001b[0m \u001b[0;32min\u001b[0m \u001b[0mregions_tdb\u001b[0m\u001b[0;34m]\u001b[0m\u001b[0;34m\u001b[0m\u001b[0;34m\u001b[0m\u001b[0m\n\u001b[0;32m----> 3\u001b[0;31m \u001b[0mbatch_tdb\u001b[0m\u001b[0;34m=\u001b[0m\u001b[0mtdb_array\u001b[0m\u001b[0;34m.\u001b[0m\u001b[0mquery\u001b[0m\u001b[0;34m(\u001b[0m\u001b[0mattrs\u001b[0m\u001b[0;34m=\u001b[0m\u001b[0;34m[\u001b[0m\u001b[0mattribute_of_interest\u001b[0m\u001b[0;34m]\u001b[0m\u001b[0;34m)\u001b[0m\u001b[0;34m.\u001b[0m\u001b[0mmulti_index\u001b[0m\u001b[0;34m[\u001b[0m\u001b[0mtdb_indices\u001b[0m\u001b[0;34m]\u001b[0m\u001b[0;34m[\u001b[0m\u001b[0mattribute_of_interest\u001b[0m\u001b[0;34m]\u001b[0m\u001b[0;34m\u001b[0m\u001b[0;34m\u001b[0m\u001b[0m\n\u001b[0m\u001b[1;32m      4\u001b[0m \u001b[0mbatch_tdb\u001b[0m\u001b[0;34m=\u001b[0m\u001b[0mnp\u001b[0m\u001b[0;34m.\u001b[0m\u001b[0mreshape\u001b[0m\u001b[0;34m(\u001b[0m\u001b[0mbatch_tdb\u001b[0m\u001b[0;34m,\u001b[0m\u001b[0;34m(\u001b[0m\u001b[0mbatch_size\u001b[0m\u001b[0;34m,\u001b[0m\u001b[0;34m-\u001b[0m\u001b[0;36m1\u001b[0m\u001b[0;34m)\u001b[0m\u001b[0;34m)\u001b[0m\u001b[0;34m\u001b[0m\u001b[0;34m\u001b[0m\u001b[0m\n",
      "\u001b[0;32m~/miniconda3/lib/python3.7/site-packages/tiledb/multirange_indexing.py\u001b[0m in \u001b[0;36m__getitem__\u001b[0;34m(self, idx)\u001b[0m\n\u001b[1;32m    136\u001b[0m \u001b[0;34m\u001b[0m\u001b[0m\n\u001b[1;32m    137\u001b[0m         \u001b[0mq\u001b[0m\u001b[0;34m.\u001b[0m\u001b[0mset_ranges\u001b[0m\u001b[0;34m(\u001b[0m\u001b[0mranges\u001b[0m\u001b[0;34m)\u001b[0m\u001b[0;34m\u001b[0m\u001b[0;34m\u001b[0m\u001b[0m\n\u001b[0;32m--> 138\u001b[0;31m         \u001b[0mq\u001b[0m\u001b[0;34m.\u001b[0m\u001b[0msubmit\u001b[0m\u001b[0;34m(\u001b[0m\u001b[0;34m)\u001b[0m\u001b[0;34m\u001b[0m\u001b[0;34m\u001b[0m\u001b[0m\n\u001b[0m\u001b[1;32m    139\u001b[0m         \u001b[0mresult_dict\u001b[0m \u001b[0;34m=\u001b[0m \u001b[0mOrderedDict\u001b[0m\u001b[0;34m(\u001b[0m\u001b[0mq\u001b[0m\u001b[0;34m.\u001b[0m\u001b[0mresults\u001b[0m\u001b[0;34m(\u001b[0m\u001b[0;34m)\u001b[0m\u001b[0;34m)\u001b[0m\u001b[0;34m\u001b[0m\u001b[0;34m\u001b[0m\u001b[0m\n\u001b[1;32m    140\u001b[0m \u001b[0;34m\u001b[0m\u001b[0m\n",
      "\u001b[0;31mKeyboardInterrupt\u001b[0m: "
     ]
    }
   ],
   "source": [
    "##Tiledb Test 2: extract values for a batch of data \n",
    "batch_tdb=tdb_array.query(attrs=[attribute_of_interest]).multi_index[tdb_indices][attribute_of_interest]\n",
    "batch_tdb=np.reshape(batch_tdb,(batch_size,-1))\n"
   ]
  },
  {
   "cell_type": "code",
   "execution_count": null,
   "metadata": {
    "ExecuteTime": {
     "end_time": "2020-09-19T23:24:32.856381Z",
     "start_time": "2020-09-19T23:21:23.326Z"
    }
   },
   "outputs": [],
   "source": [
    "## HDF5 Test 1: # open hdf5 file for reading \n",
    "hdf5_local=h5py.File('.'.join([task,'hdf5']),mode='r')"
   ]
  },
  {
   "cell_type": "code",
   "execution_count": 10,
   "metadata": {
    "ExecuteTime": {
     "end_time": "2020-09-19T23:20:00.254873Z",
     "start_time": "2020-09-19T23:20:00.203266Z"
    }
   },
   "outputs": [],
   "source": [
    "## HDF5 Test 2: read regions for task ENCSR000EID from a local hdf5 file \n",
    "batch_hdf5=np.full((batch_size,vector_length),np.nan)\n",
    "region_index=0\n",
    "for region in regions:\n",
    "    batch_hdf5[region_index,:]=hdf5_local[region[0]][region[1]:region[2]]\n",
    "    region_index+=1"
   ]
  },
  {
   "cell_type": "code",
   "execution_count": 11,
   "metadata": {
    "ExecuteTime": {
     "end_time": "2020-09-19T23:20:00.266111Z",
     "start_time": "2020-09-19T23:20:00.256674Z"
    }
   },
   "outputs": [],
   "source": [
    "## pyBigWig  Test 1: open BigWig for reading \n",
    "bigwig_local=pyBigWig.open(\"ENCSR000EID.merged.nodup.fc.signal.bigwig\",'r')"
   ]
  },
  {
   "cell_type": "code",
   "execution_count": 12,
   "metadata": {
    "ExecuteTime": {
     "end_time": "2020-09-19T23:20:00.421605Z",
     "start_time": "2020-09-19T23:20:00.270241Z"
    }
   },
   "outputs": [],
   "source": [
    "## pyBigWig  Test 2: read regions for task ENCSR000EID from a local BigWig\n",
    "batch_bw=np.full((batch_size,vector_length),np.nan)\n",
    "region_index=0\n",
    "for region in regions:\n",
    "    batch_bw[region_index,:]=bigwig_local.values(region[0],region[1],region[2],numpy=True)\n",
    "    region_index+=1\n"
   ]
  },
  {
   "cell_type": "code",
   "execution_count": 13,
   "metadata": {
    "ExecuteTime": {
     "end_time": "2020-09-19T23:20:00.428309Z",
     "start_time": "2020-09-19T23:20:00.423089Z"
    }
   },
   "outputs": [],
   "source": [
    "#pyBigWig treats empty regions as NaN, convert to 0 \n",
    "batch_bw=np.nan_to_num(batch_bw)"
   ]
  },
  {
   "cell_type": "code",
   "execution_count": 14,
   "metadata": {
    "ExecuteTime": {
     "end_time": "2020-09-19T23:20:00.435617Z",
     "start_time": "2020-09-19T23:20:00.429976Z"
    }
   },
   "outputs": [],
   "source": [
    "## numpy Test 1: extract chr1 from a bigwig and save it\n",
    "## IF WANT TO LIMIT TO CHROM 1 \n",
    "\n",
    "#bigwig_local=pyBigWig.open(\"ENCSR000EID.merged.nodup.fc.signal.bigwig\",'r')\n",
    "#signal = np.nan_to_num(bigwig_local.values('chr1', 0, -1, numpy=True))\n",
    "#np.save(\"ENCSR000EID.chr1.npy\", signal)\n",
    "\n",
    "##genomewide signal extraction -- this takes 35 minutes, so recommended to use pre-generated file on mitra: \n",
    "## http://mitra.stanford.edu/kundaje/annashch/query_speed_test/ENCSR000EID.npy \n",
    "##genomewide signal from tdb for storing in numpy \n",
    "\n",
    "#signal=tdb_array.query(attrs=[attribute_of_interest]).multi_index[0:3088269832][attribute_of_interest]\n",
    "#np.save(\"ENCSR000EID.npy\", signal)"
   ]
  },
  {
   "cell_type": "code",
   "execution_count": 17,
   "metadata": {
    "ExecuteTime": {
     "end_time": "2020-09-19T23:20:43.448739Z",
     "start_time": "2020-09-19T23:20:43.430650Z"
    }
   },
   "outputs": [],
   "source": [
    "# numpy Test 2: read regions for the task from a memory mapped numpy array\n",
    "\n",
    "numpy_local = np.load(\"ENCSR000EID.npy\", mmap_mode='r')\n",
    "\n",
    "batch_npy=np.full((batch_size,vector_length),np.nan)\n",
    "region_index=0\n",
    "for region in regions_tdb:\n",
    "    batch_npy[region_index]=numpy_local[region:region+vector_length,0]\n",
    "    region_index+=1"
   ]
  },
  {
   "cell_type": "code",
   "execution_count": null,
   "metadata": {},
   "outputs": [],
   "source": []
  },
  {
   "cell_type": "code",
   "execution_count": 16,
   "metadata": {
    "ExecuteTime": {
     "end_time": "2020-09-19T23:20:00.559219Z",
     "start_time": "2020-09-19T23:20:00.458915Z"
    }
   },
   "outputs": [
    {
     "ename": "NameError",
     "evalue": "name 'signal' is not defined",
     "output_type": "error",
     "traceback": [
      "\u001b[0;31m---------------------------------------------------------------------------\u001b[0m",
      "\u001b[0;31mNameError\u001b[0m                                 Traceback (most recent call last)",
      "\u001b[0;32m<ipython-input-16-60bd0d3ee617>\u001b[0m in \u001b[0;36m<module>\u001b[0;34m\u001b[0m\n\u001b[1;32m      4\u001b[0m \u001b[0mregion_index\u001b[0m\u001b[0;34m=\u001b[0m\u001b[0;36m0\u001b[0m\u001b[0;34m\u001b[0m\u001b[0;34m\u001b[0m\u001b[0m\n\u001b[1;32m      5\u001b[0m \u001b[0;32mfor\u001b[0m \u001b[0mregion\u001b[0m \u001b[0;32min\u001b[0m \u001b[0mregions_tdb\u001b[0m\u001b[0;34m:\u001b[0m\u001b[0;34m\u001b[0m\u001b[0;34m\u001b[0m\u001b[0m\n\u001b[0;32m----> 6\u001b[0;31m     \u001b[0mbatch_npy2\u001b[0m\u001b[0;34m[\u001b[0m\u001b[0mregion_index\u001b[0m\u001b[0;34m]\u001b[0m\u001b[0;34m=\u001b[0m\u001b[0msignal\u001b[0m\u001b[0;34m[\u001b[0m\u001b[0mregion\u001b[0m\u001b[0;34m:\u001b[0m\u001b[0mregion\u001b[0m\u001b[0;34m+\u001b[0m\u001b[0mvector_length\u001b[0m\u001b[0;34m,\u001b[0m\u001b[0;36m0\u001b[0m\u001b[0;34m]\u001b[0m\u001b[0;34m\u001b[0m\u001b[0;34m\u001b[0m\u001b[0m\n\u001b[0m\u001b[1;32m      7\u001b[0m     \u001b[0mregion_index\u001b[0m\u001b[0;34m+=\u001b[0m\u001b[0;36m1\u001b[0m\u001b[0;34m\u001b[0m\u001b[0;34m\u001b[0m\u001b[0m\n",
      "\u001b[0;31mNameError\u001b[0m: name 'signal' is not defined"
     ]
    }
   ],
   "source": [
    "# numpy Test 3: read regions \n",
    "signal=np.load(\"ENCSR000EID.npy\")\n"
   ]
  },
  {
   "cell_type": "code",
   "execution_count": null,
   "metadata": {},
   "outputs": [],
   "source": [
    "batch_npy2=np.full((batch_size,vector_length),np.nan)\n",
    "region_index=0\n",
    "for region in regions_tdb:\n",
    "    batch_npy2[region_index]=signal[region:region+vector_length,0]\n",
    "    region_index+=1"
   ]
  },
  {
   "cell_type": "code",
   "execution_count": null,
   "metadata": {
    "ExecuteTime": {
     "end_time": "2020-09-19T23:20:00.560732Z",
     "start_time": "2020-09-19T23:19:58.487Z"
    }
   },
   "outputs": [],
   "source": [
    "batch_tdb.sum(), batch_hdf5.sum(), batch_bw.sum(), batch_npy.sum(), batch_npy2.sum()"
   ]
  },
  {
   "cell_type": "code",
   "execution_count": null,
   "metadata": {
    "ExecuteTime": {
     "end_time": "2020-09-19T23:20:00.561673Z",
     "start_time": "2020-09-19T23:19:58.488Z"
    }
   },
   "outputs": [],
   "source": [
    "#make sure we're getting the same batch each time\n",
    "assert sum(sum(batch_tdb==batch_hdf5))==batch_size*vector_length\n",
    "assert sum(sum(batch_tdb==batch_bw))==batch_size*vector_length\n",
    "assert sum(sum(batch_hdf5==batch_bw))==batch_size*vector_length\n",
    "assert sum(sum(batch_npy==batch_tdb))==batch_size*vector_length\n",
    "assert sum(sum(batch_npy2==batch_tdb))==batch_size*vector_length\n",
    "print(\"all assertions met\")"
   ]
  },
  {
   "cell_type": "code",
   "execution_count": null,
   "metadata": {
    "ExecuteTime": {
     "end_time": "2020-09-19T23:20:00.562539Z",
     "start_time": "2020-09-19T23:19:58.489Z"
    }
   },
   "outputs": [],
   "source": [
    "type(batch_tdb[0][0])"
   ]
  },
  {
   "cell_type": "code",
   "execution_count": null,
   "metadata": {
    "ExecuteTime": {
     "end_time": "2020-09-19T23:20:00.563374Z",
     "start_time": "2020-09-19T23:19:58.490Z"
    }
   },
   "outputs": [],
   "source": [
    "type(batch_hdf5[0][0])"
   ]
  },
  {
   "cell_type": "code",
   "execution_count": null,
   "metadata": {
    "ExecuteTime": {
     "end_time": "2020-09-19T23:20:00.564265Z",
     "start_time": "2020-09-19T23:19:58.491Z"
    }
   },
   "outputs": [],
   "source": [
    "type(batch_bw[0][0])"
   ]
  },
  {
   "cell_type": "code",
   "execution_count": null,
   "metadata": {
    "ExecuteTime": {
     "end_time": "2020-09-19T23:20:00.565255Z",
     "start_time": "2020-09-19T23:19:58.492Z"
    }
   },
   "outputs": [],
   "source": [
    "type(batch_npy[0][0])"
   ]
  },
  {
   "cell_type": "code",
   "execution_count": null,
   "metadata": {
    "ExecuteTime": {
     "end_time": "2020-09-19T23:20:00.566062Z",
     "start_time": "2020-09-19T23:19:58.494Z"
    }
   },
   "outputs": [],
   "source": [
    "type(batch_npy2[0][0])"
   ]
  }
 ],
 "metadata": {
  "kernelspec": {
   "display_name": "Python 3",
   "language": "python",
   "name": "python3"
  },
  "language_info": {
   "codemirror_mode": {
    "name": "ipython",
    "version": 3
   },
   "file_extension": ".py",
   "mimetype": "text/x-python",
   "name": "python",
   "nbconvert_exporter": "python",
   "pygments_lexer": "ipython3",
   "version": "3.7.6"
  }
 },
 "nbformat": 4,
 "nbformat_minor": 2
}
