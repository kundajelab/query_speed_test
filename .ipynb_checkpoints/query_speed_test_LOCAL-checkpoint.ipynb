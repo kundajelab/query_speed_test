{
 "cells": [
  {
   "cell_type": "code",
   "execution_count": 19,
   "metadata": {
    "ExecuteTime": {
     "end_time": "2020-10-23T04:06:39.012010Z",
     "start_time": "2020-10-23T04:06:39.004236Z"
    }
   },
   "outputs": [],
   "source": [
    "import pandas as pd \n",
    "import numpy as np\n",
    "import h5py\n",
    "import tiledb \n",
    "import random \n",
    "import pyBigWig\n",
    "random.seed(1234)"
   ]
  },
  {
   "cell_type": "code",
   "execution_count": 20,
   "metadata": {
    "ExecuteTime": {
     "end_time": "2020-10-23T04:06:39.234250Z",
     "start_time": "2020-10-23T04:06:39.228095Z"
    }
   },
   "outputs": [],
   "source": [
    "attribute_of_interest='fc_bigwig'\n",
    "batch_size=100000\n",
    "vector_length=1000\n",
    "task=\"ENCSR000EID\"\n",
    "chromsizes_file=\"hg38.chrom.sizes\""
   ]
  },
  {
   "cell_type": "code",
   "execution_count": 33,
   "metadata": {
    "ExecuteTime": {
     "end_time": "2020-10-23T04:12:41.823670Z",
     "start_time": "2020-10-23T04:12:41.792335Z"
    }
   },
   "outputs": [
    {
     "name": "stdout",
     "output_type": "stream",
     "text": [
      "['chr1', 'chr2', 'chr3', 'chr4', 'chr5', 'chr6', 'chr7', 'chr8', 'chr9', 'chr10', 'chr11', 'chr12', 'chr13', 'chr14', 'chr15', 'chr16', 'chr17', 'chr18', 'chr19', 'chr20', 'chr21', 'chr22', 'chrX', 'chrY']\n"
     ]
    }
   ],
   "source": [
    "#get chromsizes dictionary \n",
    "chromsizes=pd.read_csv(chromsizes_file,sep='\\t',header=None,index_col=0)[1].to_dict()\n",
    "chromsizes\n",
    "chroms=list(chromsizes.keys())\n",
    "print(chroms)"
   ]
  },
  {
   "cell_type": "code",
   "execution_count": 34,
   "metadata": {
    "ExecuteTime": {
     "end_time": "2020-10-23T04:12:42.632113Z",
     "start_time": "2020-10-23T04:12:42.241867Z"
    }
   },
   "outputs": [
    {
     "name": "stdout",
     "output_type": "stream",
     "text": [
      "[['chr1', 119879737, 119880737], ['chr1', 128269142, 128270142], ['chr3', 175812818, 175813818], ['chr7', 54873964, 54874964], ['chr16', 32611488, 32612488], ['chr15', 68987183, 68988183], ['chr4', 106822311, 106823311], ['chr5', 92831274, 92832274], ['chr3', 63471549, 63472549], ['chr20', 18036514, 18037514]]\n"
     ]
    }
   ],
   "source": [
    "## random batch of data -- \"batch_size\" of genomic regions of \"vector_length\" each \n",
    "regions=[] \n",
    "for batch_entry in range(batch_size): \n",
    "    cur_chrom=random.choice(chroms)\n",
    "    cur_start=random.randint(vector_length,chromsizes[cur_chrom]-vector_length)\n",
    "    regions.append([cur_chrom,cur_start,cur_start+vector_length])\n",
    "print(regions[0:10])"
   ]
  },
  {
   "cell_type": "code",
   "execution_count": 35,
   "metadata": {
    "ExecuteTime": {
     "end_time": "2020-10-23T04:12:42.742857Z",
     "start_time": "2020-10-23T04:12:42.685995Z"
    }
   },
   "outputs": [
    {
     "name": "stdout",
     "output_type": "stream",
     "text": [
      "{'chr1': 0, 'chr2': 248956422, 'chr3': 491149951, 'chr4': 689445510, 'chr5': 879660065, 'chr6': 1061198324, 'chr7': 1232004303, 'chr8': 1391350276, 'chr9': 1536488912, 'chr10': 1674883629, 'chr11': 1808681051, 'chr12': 1943767673, 'chr13': 2077042982, 'chr14': 2191407310, 'chr15': 2298451028, 'chr16': 2400442217, 'chr17': 2490780562, 'chr18': 2574038003, 'chr19': 2654411288, 'chr20': 2713028904, 'chr21': 2777473071, 'chr22': 2824183054, 'chrX': 2875001522, 'chrY': 3031042417}\n"
     ]
    }
   ],
   "source": [
    "## convert from \"bed file\" coordinates to tiledb indices (tiledb stores bases 0 - 3 billion in one vector)\n",
    "\n",
    "#get starting genomewide position for each chrom \n",
    "chrom_to_start={} \n",
    "cur_start=0 \n",
    "for chrom in chroms: \n",
    "    chrom_to_start[chrom]=cur_start \n",
    "    cur_start+=chromsizes[chrom]\n",
    "print(chrom_to_start)\n",
    "\n",
    "#convert region \"bed\" coordinates to tdb indices\n",
    "regions_tdb=[] \n",
    "for region in regions: \n",
    "    tdb_index=chrom_to_start[region[0]]+region[1]\n",
    "    regions_tdb.append(tdb_index)\n"
   ]
  },
  {
   "cell_type": "code",
   "execution_count": 36,
   "metadata": {
    "ExecuteTime": {
     "end_time": "2020-10-23T04:12:44.604899Z",
     "start_time": "2020-10-23T04:12:44.467815Z"
    }
   },
   "outputs": [],
   "source": [
    "tdb_indices=[slice(i,i+vector_length-1) for i in regions_tdb]\n"
   ]
  },
  {
   "cell_type": "code",
   "execution_count": 37,
   "metadata": {
    "ExecuteTime": {
     "end_time": "2020-10-23T04:12:45.399806Z",
     "start_time": "2020-10-23T04:12:45.233808Z"
    },
    "scrolled": true
   },
   "outputs": [],
   "source": [
    "## Tiledb Test 1: open tiledb array \n",
    "tdb_array=tiledb.open(task,'r',ctx=tiledb.Ctx())"
   ]
  },
  {
   "cell_type": "code",
   "execution_count": 38,
   "metadata": {
    "ExecuteTime": {
     "end_time": "2020-10-23T04:14:17.325249Z",
     "start_time": "2020-10-23T04:12:45.800266Z"
    }
   },
   "outputs": [],
   "source": [
    "##Tiledb Test 2: extract values for a batch of data \n",
    "batch_tdb=tdb_array.query(attrs=[attribute_of_interest]).multi_index[tdb_indices][attribute_of_interest]\n"
   ]
  },
  {
   "cell_type": "code",
   "execution_count": 39,
   "metadata": {
    "ExecuteTime": {
     "end_time": "2020-10-23T04:14:17.332597Z",
     "start_time": "2020-10-23T04:14:17.328867Z"
    }
   },
   "outputs": [],
   "source": [
    "batch_tdb=np.reshape(batch_tdb,(batch_size,-1))\n"
   ]
  },
  {
   "cell_type": "code",
   "execution_count": 45,
   "metadata": {
    "ExecuteTime": {
     "end_time": "2020-10-23T04:28:09.187669Z",
     "start_time": "2020-10-23T04:28:09.074441Z"
    }
   },
   "outputs": [],
   "source": [
    "##Tiled Test 3: 10 threads\n",
    "tdb_config_params={\"sm.check_coord_dups\":False,\n",
    "                   \"sm.check_coord_oob\":False,\n",
    "                   \"sm.check_global_order\":False,\n",
    "                   \"sm.num_writer_threads\":1,\n",
    "                   \"sm.num_reader_threads\":1,\n",
    "                   \"sm.num_async_threads\":1,\n",
    "                   \"vfs.num_threads\":1}\n",
    "tdb_Config=tiledb.Config(tdb_config_params)\n",
    "tdb_array=tiledb.open(task,'r',ctx=tiledb.Ctx(config=tdb_Config))\n",
    "\n"
   ]
  },
  {
   "cell_type": "code",
   "execution_count": 46,
   "metadata": {
    "ExecuteTime": {
     "end_time": "2020-10-23T04:29:57.065432Z",
     "start_time": "2020-10-23T04:28:12.417269Z"
    }
   },
   "outputs": [],
   "source": [
    "##Tiled Test 4: extract values for batch of data with 10 threads\n",
    "batch_tdb=tdb_array.query(attrs=[attribute_of_interest]).multi_index[tdb_indices][attribute_of_interest]\n"
   ]
  },
  {
   "cell_type": "code",
   "execution_count": 29,
   "metadata": {
    "ExecuteTime": {
     "end_time": "2020-10-23T04:08:13.849761Z",
     "start_time": "2020-10-23T04:08:13.844310Z"
    }
   },
   "outputs": [],
   "source": [
    "batch_tdb=np.reshape(batch_tdb,(batch_size,-1))\n"
   ]
  },
  {
   "cell_type": "code",
   "execution_count": 40,
   "metadata": {
    "ExecuteTime": {
     "end_time": "2020-10-23T04:14:17.446213Z",
     "start_time": "2020-10-23T04:14:17.335919Z"
    }
   },
   "outputs": [],
   "source": [
    "## Tiledb uncompressed open \n",
    "tdb_array=tiledb.open(task+'.uncompressed','r',ctx=tiledb.Ctx())"
   ]
  },
  {
   "cell_type": "code",
   "execution_count": 41,
   "metadata": {
    "ExecuteTime": {
     "end_time": "2020-10-23T04:16:34.140965Z",
     "start_time": "2020-10-23T04:14:17.450669Z"
    }
   },
   "outputs": [],
   "source": [
    "## Tiledb uncompressed extract batch \n",
    "batch_tdb=tdb_array.query(attrs=[attribute_of_interest]).multi_index[tdb_indices][attribute_of_interest]\n",
    "\n"
   ]
  },
  {
   "cell_type": "code",
   "execution_count": 42,
   "metadata": {
    "ExecuteTime": {
     "end_time": "2020-10-23T04:16:34.146396Z",
     "start_time": "2020-10-23T04:16:34.143386Z"
    }
   },
   "outputs": [],
   "source": [
    "batch_tdb=np.reshape(batch_tdb,(batch_size,-1))\n"
   ]
  },
  {
   "cell_type": "code",
   "execution_count": 43,
   "metadata": {
    "ExecuteTime": {
     "end_time": "2020-10-23T04:25:12.235818Z",
     "start_time": "2020-10-23T04:25:12.111769Z"
    }
   },
   "outputs": [],
   "source": [
    "## Tiledb uncompressed extract batch w/ 10 threads \n",
    "##Tiled Test 3: 10 threads\n",
    "tdb_config_params={\"sm.check_coord_dups\":False,\n",
    "                   \"sm.check_coord_oob\":False,\n",
    "                   \"sm.check_global_order\":False,\n",
    "                   \"sm.num_writer_threads\":50,\n",
    "                   \"sm.num_reader_threads\":50,\n",
    "                   \"sm.num_async_threads\":50,\n",
    "                   \"vfs.num_threads\":50}\n",
    "tdb_Config=tiledb.Config(tdb_config_params)\n",
    "tdb_array=tiledb.open(task+'.uncompressed','r',ctx=tiledb.Ctx(config=tdb_Config))"
   ]
  },
  {
   "cell_type": "code",
   "execution_count": 44,
   "metadata": {
    "ExecuteTime": {
     "end_time": "2020-10-23T04:27:31.288933Z",
     "start_time": "2020-10-23T04:25:13.151126Z"
    }
   },
   "outputs": [],
   "source": [
    "batch_tdb=tdb_array.query(attrs=[attribute_of_interest]).multi_index[tdb_indices][attribute_of_interest]\n"
   ]
  },
  {
   "cell_type": "code",
   "execution_count": 18,
   "metadata": {
    "ExecuteTime": {
     "end_time": "2020-10-23T04:05:03.093666Z",
     "start_time": "2020-10-23T04:05:03.089480Z"
    }
   },
   "outputs": [],
   "source": [
    "batch_tdb=np.reshape(batch_tdb,(batch_size,-1))"
   ]
  },
  {
   "cell_type": "code",
   "execution_count": null,
   "metadata": {
    "ExecuteTime": {
     "end_time": "2020-10-23T03:22:52.049148Z",
     "start_time": "2020-10-23T03:22:52.035629Z"
    }
   },
   "outputs": [],
   "source": [
    "## HDF5 Test 1: # open hdf5 file for reading \n",
    "hdf5_local=h5py.File('.'.join([task,'hdf5']),mode='r')"
   ]
  },
  {
   "cell_type": "code",
   "execution_count": null,
   "metadata": {
    "ExecuteTime": {
     "end_time": "2020-10-23T03:25:56.451617Z",
     "start_time": "2020-10-23T03:22:52.052784Z"
    }
   },
   "outputs": [],
   "source": [
    "## HDF5 Test 2: read regions for task ENCSR000EID from a local hdf5 file \n",
    "batch_hdf5=np.full((batch_size,vector_length),np.nan)\n",
    "region_index=0\n",
    "for region in regions:\n",
    "    batch_hdf5[region_index,:]=hdf5_local[region[0]][region[1]:region[2]]\n",
    "    region_index+=1"
   ]
  },
  {
   "cell_type": "code",
   "execution_count": null,
   "metadata": {
    "ExecuteTime": {
     "end_time": "2020-10-23T00:42:45.547315Z",
     "start_time": "2020-10-23T00:42:45.542686Z"
    }
   },
   "outputs": [],
   "source": [
    "## HDF5 compressed open \n",
    "hdf5_local=h5py.File('.'.join([task,'compressed','hdf5']),mode='r')"
   ]
  },
  {
   "cell_type": "code",
   "execution_count": null,
   "metadata": {
    "ExecuteTime": {
     "end_time": "2020-10-23T00:44:03.434944Z",
     "start_time": "2020-10-23T00:42:45.550779Z"
    }
   },
   "outputs": [],
   "source": [
    "## HDF5 compressed extract a batch of data \n",
    "batch_hdf5=np.full((batch_size,vector_length),np.nan)\n",
    "region_index=0\n",
    "for region in regions:\n",
    "    batch_hdf5[region_index,:]=hdf5_local[region[0]][region[1]:region[2]]\n",
    "    region_index+=1"
   ]
  },
  {
   "cell_type": "code",
   "execution_count": null,
   "metadata": {
    "ExecuteTime": {
     "end_time": "2020-10-23T00:44:03.443038Z",
     "start_time": "2020-10-23T00:44:03.436935Z"
    }
   },
   "outputs": [],
   "source": [
    "## pyBigWig  Test 1: open BigWig for reading \n",
    "bigwig_local=pyBigWig.open(\"ENCSR000EID.merged.nodup.fc.signal.bigwig\",'r')"
   ]
  },
  {
   "cell_type": "code",
   "execution_count": null,
   "metadata": {
    "ExecuteTime": {
     "end_time": "2020-10-23T00:46:10.288643Z",
     "start_time": "2020-10-23T00:44:03.447568Z"
    }
   },
   "outputs": [],
   "source": [
    "## pyBigWig  Test 2: read regions for task ENCSR000EID from a local BigWig\n",
    "batch_bw=np.full((batch_size,vector_length),np.nan)\n",
    "region_index=0\n",
    "for region in regions:\n",
    "    batch_bw[region_index,:]=bigwig_local.values(region[0],region[1],region[2],numpy=True)\n",
    "    region_index+=1\n"
   ]
  },
  {
   "cell_type": "code",
   "execution_count": null,
   "metadata": {
    "ExecuteTime": {
     "end_time": "2020-10-23T00:46:11.107487Z",
     "start_time": "2020-10-23T00:46:10.291377Z"
    }
   },
   "outputs": [],
   "source": [
    "#pyBigWig treats empty regions as NaN, convert to 0 \n",
    "batch_bw=np.nan_to_num(batch_bw)"
   ]
  },
  {
   "cell_type": "code",
   "execution_count": null,
   "metadata": {
    "ExecuteTime": {
     "end_time": "2020-10-23T00:46:11.111918Z",
     "start_time": "2020-10-23T00:46:11.109584Z"
    }
   },
   "outputs": [],
   "source": [
    "## numpy Test 1: extract chr1 from a bigwig and save it\n",
    "## IF WANT TO LIMIT TO CHROM 1 \n",
    "\n",
    "#bigwig_local=pyBigWig.open(\"ENCSR000EID.merged.nodup.fc.signal.bigwig\",'r')\n",
    "#signal = np.nan_to_num(bigwig_local.values('chr1', 0, -1, numpy=True))\n",
    "#np.save(\"ENCSR000EID.chr1.npy\", signal)\n",
    "\n",
    "##genomewide signal extraction -- this takes 35 minutes, so recommended to use pre-generated file on mitra: \n",
    "## http://mitra.stanford.edu/kundaje/annashch/query_speed_test/ENCSR000EID.npy \n",
    "##genomewide signal from tdb for storing in numpy \n",
    "\n",
    "#signal=tdb_array.query(attrs=[attribute_of_interest]).multi_index[0:3088269832][attribute_of_interest]\n",
    "#np.save(\"ENCSR000EID.npy\", signal)"
   ]
  },
  {
   "cell_type": "code",
   "execution_count": null,
   "metadata": {
    "ExecuteTime": {
     "end_time": "2020-10-23T00:46:12.331772Z",
     "start_time": "2020-10-23T00:46:11.117547Z"
    }
   },
   "outputs": [],
   "source": [
    "# numpy Test 2: read regions for the task from a memory mapped numpy array\n",
    "\n",
    "numpy_local = np.load(\"ENCSR000EID.npy\", mmap_mode='r')\n",
    "\n",
    "batch_npy=np.full((batch_size,vector_length),np.nan)\n",
    "region_index=0\n",
    "for region in regions_tdb:\n",
    "    batch_npy[region_index]=numpy_local[region:region+vector_length,0]\n",
    "    region_index+=1"
   ]
  },
  {
   "cell_type": "code",
   "execution_count": null,
   "metadata": {
    "ExecuteTime": {
     "end_time": "2020-10-23T00:46:21.238047Z",
     "start_time": "2020-10-23T00:46:12.333774Z"
    }
   },
   "outputs": [],
   "source": [
    "# numpy Test 3: read regions \n",
    "signal=np.load(\"ENCSR000EID.npy\")\n"
   ]
  },
  {
   "cell_type": "code",
   "execution_count": null,
   "metadata": {
    "ExecuteTime": {
     "end_time": "2020-10-23T00:46:21.683026Z",
     "start_time": "2020-10-23T00:46:21.240386Z"
    }
   },
   "outputs": [],
   "source": [
    "batch_npy2=np.full((batch_size,vector_length),np.nan)\n",
    "region_index=0\n",
    "for region in regions_tdb:\n",
    "    batch_npy2[region_index]=signal[region:region+vector_length,0]\n",
    "    region_index+=1"
   ]
  },
  {
   "cell_type": "code",
   "execution_count": null,
   "metadata": {
    "ExecuteTime": {
     "end_time": "2020-10-23T00:46:22.043815Z",
     "start_time": "2020-10-23T00:46:21.685153Z"
    }
   },
   "outputs": [],
   "source": [
    "batch_tdb.sum(), batch_hdf5.sum(), batch_bw.sum(), batch_npy.sum(), batch_npy2.sum()"
   ]
  },
  {
   "cell_type": "code",
   "execution_count": null,
   "metadata": {
    "ExecuteTime": {
     "end_time": "2020-10-23T00:46:23.801481Z",
     "start_time": "2020-10-23T00:46:22.045542Z"
    }
   },
   "outputs": [],
   "source": [
    "#make sure we're getting the same batch each time\n",
    "assert sum(sum(batch_tdb==batch_hdf5))==(batch_size*vector_length)\n",
    "assert sum(sum(batch_tdb==batch_bw))== (batch_size*vector_length)\n",
    "assert sum(sum(batch_hdf5==batch_bw))== (batch_size*vector_length)\n",
    "assert sum(sum(batch_npy==batch_tdb))== (batch_size*vector_length)\n",
    "assert sum(sum(batch_npy2==batch_tdb))== (batch_size*vector_length)\n",
    "print(\"all assertions met\")"
   ]
  },
  {
   "cell_type": "code",
   "execution_count": null,
   "metadata": {
    "ExecuteTime": {
     "end_time": "2020-10-23T00:38:12.153598Z",
     "start_time": "2020-10-23T00:38:12.149916Z"
    }
   },
   "outputs": [],
   "source": [
    "type(batch_tdb[0][0])"
   ]
  },
  {
   "cell_type": "code",
   "execution_count": null,
   "metadata": {
    "ExecuteTime": {
     "end_time": "2020-10-23T00:28:16.859226Z",
     "start_time": "2020-10-23T00:17:56.055Z"
    }
   },
   "outputs": [],
   "source": [
    "type(batch_hdf5[0][0])"
   ]
  },
  {
   "cell_type": "code",
   "execution_count": null,
   "metadata": {
    "ExecuteTime": {
     "end_time": "2020-10-23T00:28:16.860303Z",
     "start_time": "2020-10-23T00:17:56.462Z"
    }
   },
   "outputs": [],
   "source": [
    "type(batch_bw[0][0])"
   ]
  },
  {
   "cell_type": "code",
   "execution_count": null,
   "metadata": {
    "ExecuteTime": {
     "end_time": "2020-10-23T00:28:16.861419Z",
     "start_time": "2020-10-23T00:18:09.508Z"
    }
   },
   "outputs": [],
   "source": [
    "type(batch_npy[0][0])"
   ]
  },
  {
   "cell_type": "code",
   "execution_count": null,
   "metadata": {
    "ExecuteTime": {
     "end_time": "2020-10-23T00:28:16.862411Z",
     "start_time": "2020-10-23T00:18:10.152Z"
    }
   },
   "outputs": [],
   "source": [
    "type(batch_npy2[0][0])"
   ]
  },
  {
   "cell_type": "code",
   "execution_count": null,
   "metadata": {},
   "outputs": [],
   "source": []
  },
  {
   "cell_type": "code",
   "execution_count": null,
   "metadata": {},
   "outputs": [],
   "source": []
  }
 ],
 "metadata": {
  "kernelspec": {
   "display_name": "Python 3",
   "language": "python",
   "name": "python3"
  },
  "language_info": {
   "codemirror_mode": {
    "name": "ipython",
    "version": 3
   },
   "file_extension": ".py",
   "mimetype": "text/x-python",
   "name": "python",
   "nbconvert_exporter": "python",
   "pygments_lexer": "ipython3",
   "version": "3.7.6"
  }
 },
 "nbformat": 4,
 "nbformat_minor": 2
}
